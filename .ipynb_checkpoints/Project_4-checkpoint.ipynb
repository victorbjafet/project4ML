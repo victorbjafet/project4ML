{
 "cells": [
  {
   "cell_type": "markdown",
   "id": "878d58e7-3803-4d2c-9b19-f4c91b4090e7",
   "metadata": {},
   "source": [
    "# 1. Frame the problem\n",
    "# WRITE MORE HERE SOMEHOW\n",
    "Given a picture of a random English cursive letter, determine which letter the picture depicts. (Ex. A short loop generally depicts an e, while a tall loop depicts an l.)"
   ]
  },
  {
   "cell_type": "markdown",
   "id": "4ec99652-4719-4a66-a75d-1a2acea3ff73",
   "metadata": {},
   "source": [
    "# 2. Get the Data \n",
    "# I need to see if I'm gonna need to like put the stuff in a df somehow so yea idk this is still very wip i just did all the basic data prep (the fact that all the stuff i alr wrote is just \"basic\" is terrifying)\n",
    "- The data was initially provided in a google drive zip folder called \"2023 Cursive\".\n",
    "- To initially load the data, I downloaded the zip file onto my local machine, and then utilized the Jupyter upload feature to upload the zip file to the remote server.\n",
    "- After the zip file was fully uploaded, I unzipped the file using the unzip package, renaming the outputted folder to 2023_Cursive for simplicity. Inside the new folder there were 9 zip files, each labelled 1 to 9.\"\n",
    "- I unzipped each folder individually using the unzip package. Each time I would unzip a folder, its name would change to what the student originally called it, so I would rename the newly created folder back to the number of its corresponding zip file. This was to keep the files/folders organized, also preventing files from mixing since some of the original folder names are identical. (Ex. Unzipping \"1.zip\" outputs a folder called \"Cursive letters\", so I renamed that folder to just \"1\".)\n",
    "- Finally, after unzipping everything, I deleted all the zip files by running \"rm *.zip -r\" in the \"2023_Cursive\" folder, leaving only the newly unzipped folders."
   ]
  },
  {
   "cell_type": "markdown",
   "id": "43015cf6-1f6b-4cec-a256-265a37cf8d15",
   "metadata": {},
   "source": [
    "# 3. Explore the Data\n",
    "#### Below is a data explorer that just allows you to look at any image you want by simply typing a 2 character string: the number of the folder, and the letter. Alternatively, typing \"s\" in place of the folder will show you all instances of your chosen letter.\n",
    "- (Ex. \"1a\" will show you the picture for the letter \"a\" in folder 1. \"sa\" will show you all pictures of the letter \"a\" across all 9 folders.)"
   ]
  },
  {
   "cell_type": "code",
   "execution_count": null,
   "id": "2dbc638b-377d-448a-9e4a-e6aecdfe39f1",
   "metadata": {},
   "outputs": [],
   "source": [
    "import cv2\n",
    "from matplotlib import pyplot as plt\n",
    "from IPython.display import clear_output #so that output is cleared after every page to prevent clutter and huge outputs\n",
    "\n",
    "#search thing to see any image without having to look for it in files\n",
    "while True:\n",
    "    uinput = input(\"Folder and Letter: \") #ex. \"2a\" to see folder 2, letter a. SPECIAL FEATURE: to see all images of a certain letter, do \"s\" + the letter you want to view, and it will show all letters.\n",
    "    clear_output()\n",
    "    print(\"Folder and Letter: \" + uinput)\n",
    "    if uinput[0] == \"s\":\n",
    "        for i in range (1,10):\n",
    "            image = cv2.imread(\"2023_Cursive/\" + str(i) + \"/\" + uinput[1].upper() + \".JPG\")\n",
    "            plt.imshow(image)\n",
    "            plt.show()\n",
    "    else:\n",
    "        image = cv2.imread(\"2023_Cursive/\" + uinput[0] + \"/\" + uinput[1].upper() + \".JPG\")\n",
    "        plt.imshow(image)\n",
    "    plt.show()"
   ]
  },
  {
   "cell_type": "markdown",
   "id": "280a5122-c964-453f-bd27-5de7e595ed79",
   "metadata": {},
   "source": [
    "# 4. Prepare the Data\n",
    "#### Some data prep was done during the unzipping process in step 2 to ensure the files and folders all remained organized and consistent enough to be exploreable (see step 2 for details).\n",
    "#### The files themselves were still messy though, so some data prep had to be done between steps 2 and 3 in preparation for data exploration.\n",
    "#### Since this data prep wasn't addressed between the 2 steps, all the issues fixed between steps 2 and 3 are listed below (in the same order they were resolved) as well as their solutions:\n",
    "- Folders 2 and 6 had several images with no file extensions.\n",
    "    - To fix this, I created a short program (located in the same folder as this IPYNB) called rename.py. I moved this program into the folders with this issue, and upon running it, it would add \".HEIC\" to the end of each file name in the folder (I also made sure to check beforehand that all files with this issue were HEIC images, so there was no need to distinguish between different file types, making the program very simple yet effective).\n",
    "- Folder 8 had three versions of every image, two versions being unnamed.\n",
    "    - To fix this, I just ran the command \"rm IMG* -r\" in the problematic directory which removed all files beginning with \"IMG\". This left only the files that were properly named.\n",
    "- Only folders 3, 7, and 9 contained their images in a JPG format. The rest of the folders all contained HEIC images, which are unsupported by OpenCV and most other image processing libraries.\n",
    "    - To fix this, I created a program (located in the same folder as this IPYNB) called convert.py. Upon being run, this program loops through every single image in the provided dataset. If the image was HEIC, it converted it into JPG. Also, for the sake of consistency, all file names were converted to uppercase so that all file names are the exact same for each alphabet set.\n",
    "###### _At this point, I might as well just do step 4 before step 3 every time since data prep always happens there..._\n",
    "#### Finally, we return to where we are now, step 4.\n",
    "- Now arises a much more difficult issue to deal with: standardizing the images themselves.\n",
    "- I plan to binarize, crop, and scale the images to be the same resolution, aspect ratio, and have each letter in just about the same area. I'm also considering stretching the letters to keep the height and width of the letters consistent but idk yet\n",
    "- My first step is to binarize the images, basically just rounding each pixel to be either black or white.\n",
    "\n",
    "- idk how many steps later but make sure to keep a consistent resolution once cropped (so basically isolate the letter, then crop to a certain aspect ratio possibly adding whitespace as needed and then downscale it to a certain resolution)\n",
    "\n",
    "\n",
    "\n",
    "\n",
    "#### Note for the deployment function: when the deployment function is made, the inputted data will have to be cleaned. I will have to run the inputted image through all the same procedures that the training data went through, so I will have to redo all this data cleaning in the deployment function."
   ]
  },
  {
   "cell_type": "code",
   "execution_count": null,
   "id": "e6b8a5a9-5876-481b-ba47-841e065cf094",
   "metadata": {},
   "outputs": [],
   "source": [
    "import cv2\n",
    "from matplotlib import pyplot as plt\n",
    "\n",
    "image = cv2.imread(\"2023_Cursive/1/A.JPG\")\n",
    "# gray = cv2.cvtColor(image, cv2.COLOR_BGR2GRAY)\n",
    "\n",
    "plt.imshow(image)\n",
    "plt.title('my picture')\n",
    "plt.show()"
   ]
  },
  {
   "cell_type": "code",
   "execution_count": null,
   "id": "626a67c7-6479-4933-bf48-3a8995ffc9d9",
   "metadata": {},
   "outputs": [],
   "source": []
  }
 ],
 "metadata": {
  "kernelspec": {
   "display_name": "Python 3 (ipykernel)",
   "language": "python",
   "name": "python3"
  },
  "language_info": {
   "codemirror_mode": {
    "name": "ipython",
    "version": 3
   },
   "file_extension": ".py",
   "mimetype": "text/x-python",
   "name": "python",
   "nbconvert_exporter": "python",
   "pygments_lexer": "ipython3",
   "version": "3.10.10"
  },
  "widgets": {
   "application/vnd.jupyter.widget-state+json": {
    "state": {},
    "version_major": 2,
    "version_minor": 0
   }
  }
 },
 "nbformat": 4,
 "nbformat_minor": 5
}
